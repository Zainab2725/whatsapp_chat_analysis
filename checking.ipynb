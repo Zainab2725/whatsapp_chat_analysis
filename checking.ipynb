{
 "cells": [
  {
   "cell_type": "code",
   "execution_count": null,
   "id": "353d96f5",
   "metadata": {},
   "outputs": [
    {
     "name": "stdout",
     "output_type": "stream",
     "text": [
      "^C\n"
     ]
    }
   ],
   "source": [
    "!pip install pandas\n",
    "!pip install numpy\n",
    "import re \n",
    "import pandas as pd "
   ]
  },
  {
   "cell_type": "code",
   "execution_count": null,
   "id": "b4ba7a67",
   "metadata": {},
   "outputs": [],
   "source": [
    "f= open('',encoding='utf-8')\n",
    "data=f.read()"
   ]
  },
  {
   "cell_type": "code",
   "execution_count": null,
   "id": "65b12bbc",
   "metadata": {},
   "outputs": [],
   "source": [
    "data"
   ]
  },
  {
   "cell_type": "code",
   "execution_count": null,
   "id": "dd2240dc",
   "metadata": {},
   "outputs": [],
   "source": [
    "pattern = '\\d{1,2}/\\d{1,2}/\\d{1,2},\\s\\d{1,2}:\\d{1,2}\\s(AM|PM)'\n"
   ]
  },
  {
   "cell_type": "code",
   "execution_count": null,
   "id": "7ab5bf2c",
   "metadata": {},
   "outputs": [],
   "source": [
    "messages = re.split(pattern,data)[1:]\n",
    "len(messages)\n",
    "messages"
   ]
  },
  {
   "cell_type": "code",
   "execution_count": null,
   "id": "92a33a25",
   "metadata": {},
   "outputs": [],
   "source": [
    "dates = re.findall(pattern,data)\n",
    "data"
   ]
  },
  {
   "cell_type": "code",
   "execution_count": null,
   "id": "f3f41712",
   "metadata": {},
   "outputs": [],
   "source": [
    "df = pd.DataFrame({'user_message':messages,'date':dates})\n",
    "\n",
    "df['date']=pd.to_datetime(df['date'],format='%d/%m/%Y, %H:%M - %p')"
   ]
  },
  {
   "cell_type": "code",
   "execution_count": null,
   "id": "6a148e80",
   "metadata": {},
   "outputs": [],
   "source": [
    "df.head()"
   ]
  },
  {
   "cell_type": "code",
   "execution_count": null,
   "id": "d247389c",
   "metadata": {},
   "outputs": [],
   "source": [
    "df.shape"
   ]
  },
  {
   "cell_type": "code",
   "execution_count": null,
   "id": "84cee455",
   "metadata": {},
   "outputs": [],
   "source": [
    " \n",
    "\n",
    "temp = df[df['user']!='group_notification']\n",
    "temp = temp[temp['message']!='<Media omitted>\\n']\n",
    "\n",
    "f = open('stop_hinglish.txt','r')\n",
    "stop_words = f.read()\n",
    "\n",
    "words = []\n",
    "for message in df['message']:\n",
    "            for word in message.lower().split():\n",
    "                    if word not in stop_words:\n",
    "                            words.append(word)\n",
    "             \n",
    "\n",
    "from collections import Counter \n",
    "Counter(words).most_common(20)"
   ]
  },
  {
   "cell_type": "code",
   "execution_count": null,
   "id": "80002694",
   "metadata": {},
   "outputs": [],
   "source": [
    "import seaborn as sns \n",
    "plt.figure(figsize=(20,6))\n",
    "sns.heatmap(df.pivot_table(index='day_name',columns='period',values='message',aggfunc='count').fillna(0))\n",
    "plt.yticks(rotation='horizontal')\n",
    "plt.show()"
   ]
  }
 ],
 "metadata": {
  "kernelspec": {
   "display_name": "Python 3",
   "language": "python",
   "name": "python3"
  },
  "language_info": {
   "codemirror_mode": {
    "name": "ipython",
    "version": 3
   },
   "file_extension": ".py",
   "mimetype": "text/x-python",
   "name": "python",
   "nbconvert_exporter": "python",
   "pygments_lexer": "ipython3",
   "version": "3.13.5"
  }
 },
 "nbformat": 4,
 "nbformat_minor": 5
}
